{
 "cells": [
  {
   "cell_type": "markdown",
   "metadata": {},
   "source": [
    "# Practice notebook for univariate analysis using NHANES data\n",
    "\n",
    "This notebook will give you the opportunity to perform some univariate analyses on your own using the NHANES.  These analyses are similar to what was done in the week 2 NHANES case study notebook.\n",
    "\n",
    "You can enter your code into the cells that say \"enter your code here\", and you can type responses to the questions into the cells that say \"Type Markdown and Latex\".\n",
    "\n",
    "Note that most of the code that you will need to write below is very similar to code that appears in the case study notebook.  You will need to edit code from that notebook in small ways to adapt it to the prompts below.\n",
    "\n",
    "To get started, we will use the same module imports and read the data in the same way as we did in the case study:"
   ]
  },
  {
   "cell_type": "code",
   "execution_count": 5,
   "metadata": {},
   "outputs": [],
   "source": [
    "%matplotlib inline\n",
    "import matplotlib.pyplot as plt\n",
    "import seaborn as sns\n",
    "import pandas as pd\n",
    "import statsmodels.api as sm\n",
    "import numpy as np\n",
    "\n",
    "da = pd.read_csv(\"nhanes_2015_2016.csv\")"
   ]
  },
  {
   "cell_type": "markdown",
   "metadata": {},
   "source": [
    "## Question 1\n",
    "\n",
    "Relabel the marital status variable [DMDMARTL](https://wwwn.cdc.gov/Nchs/Nhanes/2015-2016/DEMO_I.htm#DMDMARTL) to have brief but informative character labels.  Then construct a frequency table of these values for all people, then for women only, and for men only.  Then construct these three frequency tables using only people whose age is between 30 and 40."
   ]
  },
  {
   "cell_type": "code",
   "execution_count": 6,
   "metadata": {},
   "outputs": [
    {
     "data": {
      "text/plain": [
       "Married        2780\n",
       "Nev Married    1004\n",
       "Divorced        579\n",
       "Liv_w_part      527\n",
       "Widowed         396\n",
       "Missing         261\n",
       "Separated       186\n",
       "Refused           2\n",
       "Name: DMDMARTLx, dtype: int64"
      ]
     },
     "execution_count": 6,
     "metadata": {},
     "output_type": "execute_result"
    }
   ],
   "source": [
    "# insert your code here\n",
    "da['DMDMARTLx']=da.DMDMARTL.replace({1.0:'Married',5.0:'Nev Married',3.0:'Divorced',6.0:'Liv_w_part',2.0:'Widowed',\n",
    "                                    4.0:'Separated',77.0:'Refused',99.0:\"Don't know\"}).fillna(\"Missing\")\n",
    "da.DMDMARTLx.value_counts()"
   ]
  },
  {
   "cell_type": "code",
   "execution_count": 8,
   "metadata": {},
   "outputs": [
    {
     "data": {
      "text/plain": [
       "Married        0.535339\n",
       "Nev Married    0.175426\n",
       "Liv_w_part     0.096049\n",
       "Divorced       0.083001\n",
       "Missing        0.048931\n",
       "Widowed        0.036245\n",
       "Separated      0.024647\n",
       "Refused        0.000362\n",
       "Name: DMDMARTLx, dtype: float64"
      ]
     },
     "execution_count": 8,
     "metadata": {},
     "output_type": "execute_result"
    }
   ],
   "source": [
    "da[\"RIAGENDRx\"] = da.RIAGENDR.replace({1: \"Male\", 2: \"Female\"})\n",
    "da[da['RIAGENDRx']=='Male'].DMDMARTLx.value_counts()/da[da['RIAGENDRx']=='Male'].shape[0]"
   ]
  },
  {
   "cell_type": "code",
   "execution_count": 9,
   "metadata": {},
   "outputs": [
    {
     "data": {
      "text/plain": [
       "Married        0.437836\n",
       "Nev Married    0.174731\n",
       "Divorced       0.117608\n",
       "Widowed        0.099462\n",
       "Liv_w_part     0.088038\n",
       "Missing        0.042339\n",
       "Separated      0.039651\n",
       "Refused        0.000336\n",
       "Name: DMDMARTLx, dtype: float64"
      ]
     },
     "execution_count": 9,
     "metadata": {},
     "output_type": "execute_result"
    }
   ],
   "source": [
    "da[da['RIAGENDRx']=='Female'].DMDMARTLx.value_counts()/da[da['RIAGENDRx']=='Female'].shape[0]"
   ]
  },
  {
   "cell_type": "raw",
   "metadata": {},
   "source": []
  },
  {
   "cell_type": "markdown",
   "metadata": {},
   "source": [
    "__Q1a.__ Briefly comment on some of the differences that you observe between the distribution of marital status between women and men, for people of all ages."
   ]
  },
  {
   "cell_type": "code",
   "execution_count": 9,
   "metadata": {},
   "outputs": [
    {
     "name": "stdout",
     "output_type": "stream",
     "text": [
      "RIAGENDRx    Female   Male\n",
      "DMDMARTLx                 \n",
      "Divorced     0.1176 0.0830\n",
      "Liv_w_part   0.0880 0.0960\n",
      "Married      0.4378 0.5353\n",
      "Missing      0.0423 0.0489\n",
      "Nev Married  0.1747 0.1754\n",
      "Refused      0.0003 0.0004\n",
      "Separated    0.0397 0.0246\n",
      "Widowed      0.0995 0.0362\n"
     ]
    }
   ],
   "source": [
    "dx=da.groupby([\"DMDMARTLx\"])['RIAGENDRx'].value_counts().unstack()\n",
    "dx=dx.apply(lambda x:x/x.sum(),axis=0)\n",
    "print(dx.to_string(float_format=\"%.4f\"))"
   ]
  },
  {
   "cell_type": "markdown",
   "metadata": {},
   "source": [
    "__Q1b.__ Briefly comment on the differences that you observe between the distribution of marital status states for women between the overall population, and for women between the ages of 30 and 40."
   ]
  },
  {
   "cell_type": "code",
   "execution_count": 12,
   "metadata": {},
   "outputs": [
    {
     "data": {
      "text/plain": [
       "Married        0.227201\n",
       "Nev Married    0.090671\n",
       "Divorced       0.061029\n",
       "Widowed        0.051613\n",
       "Liv_w_part     0.045684\n",
       "Missing        0.021970\n",
       "Separated      0.020575\n",
       "Refused        0.000174\n",
       "Name: DMDMARTLx, dtype: float64"
      ]
     },
     "execution_count": 12,
     "metadata": {},
     "output_type": "execute_result"
    }
   ],
   "source": [
    "da['agegrp']=pd.cut(da.RIDAGEYR,[30,40])\n",
    "da[da['RIAGENDRx']=='Female'].DMDMARTLx.value_counts()/da['DMDMARTLx'].shape[0]"
   ]
  },
  {
   "cell_type": "code",
   "execution_count": 13,
   "metadata": {},
   "outputs": [
    {
     "data": {
      "text/plain": [
       "Married        0.044987\n",
       "Nev Married    0.016914\n",
       "Liv_w_part     0.009939\n",
       "Divorced       0.007498\n",
       "Separated      0.002964\n",
       "Widowed        0.000349\n",
       "Name: DMDMARTLx, dtype: float64"
      ]
     },
     "execution_count": 13,
     "metadata": {},
     "output_type": "execute_result"
    }
   ],
   "source": [
    "da[(da.RIAGENDRx == \"Female\") & (da.agegrp == pd.Interval(30,40))].DMDMARTLx.value_counts()/da[\"DMDMARTLx\"].shape[0]"
   ]
  },
  {
   "cell_type": "raw",
   "metadata": {},
   "source": []
  },
  {
   "cell_type": "markdown",
   "metadata": {},
   "source": [
    "__Q1c.__ Repeat part b for the men."
   ]
  },
  {
   "cell_type": "code",
   "execution_count": 14,
   "metadata": {},
   "outputs": [
    {
     "data": {
      "text/plain": [
       "Married        0.044987\n",
       "Nev Married    0.015519\n",
       "Liv_w_part     0.012554\n",
       "Divorced       0.004185\n",
       "Separated      0.002092\n",
       "Widowed        0.000349\n",
       "Refused        0.000174\n",
       "Name: DMDMARTLx, dtype: float64"
      ]
     },
     "execution_count": 14,
     "metadata": {},
     "output_type": "execute_result"
    }
   ],
   "source": [
    "da[(da.RIAGENDRx==\"Male\")&(da.agegrp==pd.Interval(30,40))].DMDMARTLx.value_counts()/da['DMDMARTLx'].shape[0]"
   ]
  },
  {
   "cell_type": "raw",
   "metadata": {},
   "source": []
  },
  {
   "cell_type": "markdown",
   "metadata": {},
   "source": [
    "## Question 2\n",
    "\n",
    "Restricting to the female population, stratify the subjects into age bands no wider than ten years, and construct the distribution of marital status within each age band.  Within each age band, present the distribution in terms of proportions that must sum to 1."
   ]
  },
  {
   "cell_type": "code",
   "execution_count": 22,
   "metadata": {},
   "outputs": [
    {
     "name": "stdout",
     "output_type": "stream",
     "text": [
      "DMDMARTLx  Divorced  Liv_w_part  Married  Missing  Nev Married  Refused  Separated  Widowed\n",
      "agegrp2                                                                                    \n",
      "(10, 20]        NaN        0.03     0.00     1.00         0.06      NaN        NaN      NaN\n",
      "(20, 30]       0.03        0.40     0.12      NaN         0.44      NaN       0.09      NaN\n",
      "(30, 40]       0.12        0.22     0.20      NaN         0.19      NaN       0.14     0.01\n",
      "(40, 50]       0.20        0.14     0.22      NaN         0.12      NaN       0.28     0.04\n",
      "(50, 60]       0.24        0.12     0.20      NaN         0.08     1.00       0.23     0.09\n",
      "(60, 70]       0.24        0.07     0.16      NaN         0.07      NaN       0.19     0.22\n",
      "(70, 80]       0.17        0.01     0.10      NaN         0.04      NaN       0.07     0.64\n"
     ]
    }
   ],
   "source": [
    "# insert your code here\n",
    "x=da[da.RIAGENDRx=='Female']\n",
    "#x=x.loc[~da.DMDMARTLx.isin([\"Don't Know\",\"Missing\"]),:]\n",
    "x['agegrp2']=pd.cut(da.RIDAGEYR,[10,20,30,40,50,60,70,80])\n",
    "dx=x.groupby(['agegrp2'])['DMDMARTLx'].value_counts().unstack()\n",
    "dx=dx.apply(lambda y:y/y.sum(),axis=0)\n",
    "print(dx.to_string(float_format=\"%.2f\"))"
   ]
  },
  {
   "cell_type": "code",
   "execution_count": 24,
   "metadata": {},
   "outputs": [
    {
     "data": {
      "text/html": [
       "<div>\n",
       "<style scoped>\n",
       "    .dataframe tbody tr th:only-of-type {\n",
       "        vertical-align: middle;\n",
       "    }\n",
       "\n",
       "    .dataframe tbody tr th {\n",
       "        vertical-align: top;\n",
       "    }\n",
       "\n",
       "    .dataframe thead th {\n",
       "        text-align: right;\n",
       "    }\n",
       "</style>\n",
       "<table border=\"1\" class=\"dataframe\">\n",
       "  <thead>\n",
       "    <tr style=\"text-align: right;\">\n",
       "      <th>DMDMARTLx</th>\n",
       "      <th>Divorced</th>\n",
       "      <th>Liv_w_part</th>\n",
       "      <th>Married</th>\n",
       "      <th>Missing</th>\n",
       "      <th>Nev Married</th>\n",
       "      <th>Refused</th>\n",
       "      <th>Separated</th>\n",
       "      <th>Widowed</th>\n",
       "    </tr>\n",
       "    <tr>\n",
       "      <th>agegrp</th>\n",
       "      <th></th>\n",
       "      <th></th>\n",
       "      <th></th>\n",
       "      <th></th>\n",
       "      <th></th>\n",
       "      <th></th>\n",
       "      <th></th>\n",
       "      <th></th>\n",
       "    </tr>\n",
       "  </thead>\n",
       "  <tbody>\n",
       "    <tr>\n",
       "      <th>(10, 20]</th>\n",
       "      <td>NaN</td>\n",
       "      <td>0.048485</td>\n",
       "      <td>0.006061</td>\n",
       "      <td>0.763636</td>\n",
       "      <td>0.181818</td>\n",
       "      <td>NaN</td>\n",
       "      <td>NaN</td>\n",
       "      <td>NaN</td>\n",
       "    </tr>\n",
       "    <tr>\n",
       "      <th>(20, 30]</th>\n",
       "      <td>0.021401</td>\n",
       "      <td>0.206226</td>\n",
       "      <td>0.305447</td>\n",
       "      <td>NaN</td>\n",
       "      <td>0.445525</td>\n",
       "      <td>NaN</td>\n",
       "      <td>0.021401</td>\n",
       "      <td>NaN</td>\n",
       "    </tr>\n",
       "    <tr>\n",
       "      <th>(30, 40]</th>\n",
       "      <td>0.090717</td>\n",
       "      <td>0.120253</td>\n",
       "      <td>0.544304</td>\n",
       "      <td>NaN</td>\n",
       "      <td>0.204641</td>\n",
       "      <td>NaN</td>\n",
       "      <td>0.035865</td>\n",
       "      <td>0.004219</td>\n",
       "    </tr>\n",
       "    <tr>\n",
       "      <th>(40, 50]</th>\n",
       "      <td>0.137450</td>\n",
       "      <td>0.073705</td>\n",
       "      <td>0.573705</td>\n",
       "      <td>NaN</td>\n",
       "      <td>0.125498</td>\n",
       "      <td>NaN</td>\n",
       "      <td>0.065737</td>\n",
       "      <td>0.023904</td>\n",
       "    </tr>\n",
       "    <tr>\n",
       "      <th>(50, 60]</th>\n",
       "      <td>0.176596</td>\n",
       "      <td>0.068085</td>\n",
       "      <td>0.546809</td>\n",
       "      <td>NaN</td>\n",
       "      <td>0.089362</td>\n",
       "      <td>0.002128</td>\n",
       "      <td>0.057447</td>\n",
       "      <td>0.059574</td>\n",
       "    </tr>\n",
       "    <tr>\n",
       "      <th>(60, 70]</th>\n",
       "      <td>0.192744</td>\n",
       "      <td>0.043084</td>\n",
       "      <td>0.480726</td>\n",
       "      <td>NaN</td>\n",
       "      <td>0.086168</td>\n",
       "      <td>NaN</td>\n",
       "      <td>0.049887</td>\n",
       "      <td>0.147392</td>\n",
       "    </tr>\n",
       "    <tr>\n",
       "      <th>(70, 80]</th>\n",
       "      <td>0.143902</td>\n",
       "      <td>0.007317</td>\n",
       "      <td>0.317073</td>\n",
       "      <td>NaN</td>\n",
       "      <td>0.051220</td>\n",
       "      <td>NaN</td>\n",
       "      <td>0.019512</td>\n",
       "      <td>0.460976</td>\n",
       "    </tr>\n",
       "  </tbody>\n",
       "</table>\n",
       "</div>"
      ],
      "text/plain": [
       "DMDMARTLx  Divorced  Liv_w_part   Married   Missing  Nev Married   Refused  \\\n",
       "agegrp                                                                       \n",
       "(10, 20]        NaN    0.048485  0.006061  0.763636     0.181818       NaN   \n",
       "(20, 30]   0.021401    0.206226  0.305447       NaN     0.445525       NaN   \n",
       "(30, 40]   0.090717    0.120253  0.544304       NaN     0.204641       NaN   \n",
       "(40, 50]   0.137450    0.073705  0.573705       NaN     0.125498       NaN   \n",
       "(50, 60]   0.176596    0.068085  0.546809       NaN     0.089362  0.002128   \n",
       "(60, 70]   0.192744    0.043084  0.480726       NaN     0.086168       NaN   \n",
       "(70, 80]   0.143902    0.007317  0.317073       NaN     0.051220       NaN   \n",
       "\n",
       "DMDMARTLx  Separated   Widowed  \n",
       "agegrp                          \n",
       "(10, 20]         NaN       NaN  \n",
       "(20, 30]    0.021401       NaN  \n",
       "(30, 40]    0.035865  0.004219  \n",
       "(40, 50]    0.065737  0.023904  \n",
       "(50, 60]    0.057447  0.059574  \n",
       "(60, 70]    0.049887  0.147392  \n",
       "(70, 80]    0.019512  0.460976  "
      ]
     },
     "execution_count": 24,
     "metadata": {},
     "output_type": "execute_result"
    }
   ],
   "source": [
    "da['agegrp']=pd.cut(da.RIDAGEYR,[10,20,30,40,50,60,70,80])\n",
    "(da[da['RIAGENDRx']=='Female'].groupby(['agegrp','DMDMARTLx']).size()/da[da['RIAGENDRx']=='Female'].groupby(['agegrp']).size()).unstack()"
   ]
  },
  {
   "cell_type": "markdown",
   "metadata": {},
   "source": [
    "__Q2a.__ Comment on the trends that you see in this series of marginal distributions."
   ]
  },
  {
   "cell_type": "raw",
   "metadata": {},
   "source": []
  },
  {
   "cell_type": "markdown",
   "metadata": {},
   "source": [
    "__Q2b.__ Repeat the construction for males."
   ]
  },
  {
   "cell_type": "code",
   "execution_count": 25,
   "metadata": {},
   "outputs": [
    {
     "data": {
      "text/html": [
       "<div>\n",
       "<style scoped>\n",
       "    .dataframe tbody tr th:only-of-type {\n",
       "        vertical-align: middle;\n",
       "    }\n",
       "\n",
       "    .dataframe tbody tr th {\n",
       "        vertical-align: top;\n",
       "    }\n",
       "\n",
       "    .dataframe thead th {\n",
       "        text-align: right;\n",
       "    }\n",
       "</style>\n",
       "<table border=\"1\" class=\"dataframe\">\n",
       "  <thead>\n",
       "    <tr style=\"text-align: right;\">\n",
       "      <th>DMDMARTLx</th>\n",
       "      <th>Divorced</th>\n",
       "      <th>Liv_w_part</th>\n",
       "      <th>Married</th>\n",
       "      <th>Missing</th>\n",
       "      <th>Nev Married</th>\n",
       "      <th>Refused</th>\n",
       "      <th>Separated</th>\n",
       "      <th>Widowed</th>\n",
       "    </tr>\n",
       "    <tr>\n",
       "      <th>agegrp</th>\n",
       "      <th></th>\n",
       "      <th></th>\n",
       "      <th></th>\n",
       "      <th></th>\n",
       "      <th></th>\n",
       "      <th></th>\n",
       "      <th></th>\n",
       "      <th></th>\n",
       "    </tr>\n",
       "  </thead>\n",
       "  <tbody>\n",
       "    <tr>\n",
       "      <th>(10, 20]</th>\n",
       "      <td>NaN</td>\n",
       "      <td>0.017143</td>\n",
       "      <td>0.005714</td>\n",
       "      <td>0.771429</td>\n",
       "      <td>0.205714</td>\n",
       "      <td>NaN</td>\n",
       "      <td>NaN</td>\n",
       "      <td>NaN</td>\n",
       "    </tr>\n",
       "    <tr>\n",
       "      <th>(20, 30]</th>\n",
       "      <td>0.004630</td>\n",
       "      <td>0.212963</td>\n",
       "      <td>0.238426</td>\n",
       "      <td>NaN</td>\n",
       "      <td>0.523148</td>\n",
       "      <td>NaN</td>\n",
       "      <td>0.016204</td>\n",
       "      <td>0.004630</td>\n",
       "    </tr>\n",
       "    <tr>\n",
       "      <th>(30, 40]</th>\n",
       "      <td>0.052402</td>\n",
       "      <td>0.157205</td>\n",
       "      <td>0.563319</td>\n",
       "      <td>NaN</td>\n",
       "      <td>0.194323</td>\n",
       "      <td>0.002183</td>\n",
       "      <td>0.026201</td>\n",
       "      <td>0.004367</td>\n",
       "    </tr>\n",
       "    <tr>\n",
       "      <th>(40, 50]</th>\n",
       "      <td>0.084788</td>\n",
       "      <td>0.082294</td>\n",
       "      <td>0.703242</td>\n",
       "      <td>NaN</td>\n",
       "      <td>0.097257</td>\n",
       "      <td>NaN</td>\n",
       "      <td>0.027431</td>\n",
       "      <td>0.004988</td>\n",
       "    </tr>\n",
       "    <tr>\n",
       "      <th>(50, 60]</th>\n",
       "      <td>0.125551</td>\n",
       "      <td>0.074890</td>\n",
       "      <td>0.651982</td>\n",
       "      <td>NaN</td>\n",
       "      <td>0.103524</td>\n",
       "      <td>NaN</td>\n",
       "      <td>0.022026</td>\n",
       "      <td>0.022026</td>\n",
       "    </tr>\n",
       "    <tr>\n",
       "      <th>(60, 70]</th>\n",
       "      <td>0.125858</td>\n",
       "      <td>0.050343</td>\n",
       "      <td>0.665904</td>\n",
       "      <td>NaN</td>\n",
       "      <td>0.086957</td>\n",
       "      <td>NaN</td>\n",
       "      <td>0.032037</td>\n",
       "      <td>0.038902</td>\n",
       "    </tr>\n",
       "    <tr>\n",
       "      <th>(70, 80]</th>\n",
       "      <td>0.141791</td>\n",
       "      <td>0.022388</td>\n",
       "      <td>0.611940</td>\n",
       "      <td>NaN</td>\n",
       "      <td>0.022388</td>\n",
       "      <td>NaN</td>\n",
       "      <td>0.034826</td>\n",
       "      <td>0.166667</td>\n",
       "    </tr>\n",
       "  </tbody>\n",
       "</table>\n",
       "</div>"
      ],
      "text/plain": [
       "DMDMARTLx  Divorced  Liv_w_part   Married   Missing  Nev Married   Refused  \\\n",
       "agegrp                                                                       \n",
       "(10, 20]        NaN    0.017143  0.005714  0.771429     0.205714       NaN   \n",
       "(20, 30]   0.004630    0.212963  0.238426       NaN     0.523148       NaN   \n",
       "(30, 40]   0.052402    0.157205  0.563319       NaN     0.194323  0.002183   \n",
       "(40, 50]   0.084788    0.082294  0.703242       NaN     0.097257       NaN   \n",
       "(50, 60]   0.125551    0.074890  0.651982       NaN     0.103524       NaN   \n",
       "(60, 70]   0.125858    0.050343  0.665904       NaN     0.086957       NaN   \n",
       "(70, 80]   0.141791    0.022388  0.611940       NaN     0.022388       NaN   \n",
       "\n",
       "DMDMARTLx  Separated   Widowed  \n",
       "agegrp                          \n",
       "(10, 20]         NaN       NaN  \n",
       "(20, 30]    0.016204  0.004630  \n",
       "(30, 40]    0.026201  0.004367  \n",
       "(40, 50]    0.027431  0.004988  \n",
       "(50, 60]    0.022026  0.022026  \n",
       "(60, 70]    0.032037  0.038902  \n",
       "(70, 80]    0.034826  0.166667  "
      ]
     },
     "execution_count": 25,
     "metadata": {},
     "output_type": "execute_result"
    }
   ],
   "source": [
    "# insert your code here\n",
    "da['agegrp']=pd.cut(da.RIDAGEYR,[10,20,30,40,50,60,70,80])\n",
    "(da[da['RIAGENDRx']=='Male'].groupby(['agegrp','DMDMARTLx']).size()/da[da['RIAGENDRx']=='Male'].groupby(['agegrp']).size()).unstack()"
   ]
  },
  {
   "cell_type": "markdown",
   "metadata": {},
   "source": [
    "__Q2c.__ Comment on any notable differences that you see when comparing these results for females and for males."
   ]
  },
  {
   "cell_type": "raw",
   "metadata": {},
   "source": []
  },
  {
   "cell_type": "markdown",
   "metadata": {},
   "source": [
    "## Question 3\n",
    "\n",
    "Construct a histogram of the distribution of heights using the BMXHT variable in the NHANES sample."
   ]
  },
  {
   "cell_type": "code",
   "execution_count": 27,
   "metadata": {},
   "outputs": [
    {
     "data": {
      "image/png": "[encoded data removed]",
      "text/plain": [
       "<Figure size 432x288 with 1 Axes>"
      ]
     },
     "metadata": {},
     "output_type": "display_data"
    }
   ],
   "source": [
    "# insert your code here\n",
    "sns.distplot(da.BMXHT.dropna())\n",
    "plt.show()"
   ]
  },
  {
   "cell_type": "markdown",
   "metadata": {},
   "source": [
    "__Q3a.__ Use the `bins` argument to [distplot](https://seaborn.pydata.org/generated/seaborn.distplot.html) to produce histograms with different numbers of bins.  Assess whether the default value for this argument gives a meaningful result, and comment on what happens as the number of bins grows excessively large or excessively small. "
   ]
  },
  {
   "cell_type": "code",
   "execution_count": 30,
   "metadata": {},
   "outputs": [
    {
     "data": {
      "image/png": "[encoded data removed]",
      "text/plain": [
       "<Figure size 432x288 with 1 Axes>"
      ]
     },
     "metadata": {},
     "output_type": "display_data"
    }
   ],
   "source": [
    "sns.distplot(da.BMXHT.dropna(),bins=50)\n",
    "plt.show()"
   ]
  },
  {
   "cell_type": "raw",
   "metadata": {},
   "source": []
  },
  {
   "cell_type": "markdown",
   "metadata": {},
   "source": [
    "__Q3b.__ Make separate histograms for the heights of women and men, then make a side-by-side boxplot showing the heights of women and men."
   ]
  },
  {
   "cell_type": "code",
   "execution_count": 31,
   "metadata": {},
   "outputs": [
    {
     "data": {
      "image/png": "[encoded data removed]",
      "text/plain": [
       "<Figure size 432x288 with 1 Axes>"
      ]
     },
     "metadata": {},
     "output_type": "display_data"
    },
    {
     "data": {
      "image/png": "[encoded data removed]",
      "text/plain": [
       "<Figure size 216x432 with 2 Axes>"
      ]
     },
     "metadata": {},
     "output_type": "display_data"
    }
   ],
   "source": [
    "# insert your code here\n",
    "sns.boxplot(x=da['BMXHT'],y=da['RIAGENDRx'])\n",
    "g=sns.FacetGrid(da,row='RIAGENDRx')\n",
    "g=g.map(plt.hist,'BMXHT')\n",
    "plt.show()"
   ]
  },
  {
   "cell_type": "markdown",
   "metadata": {},
   "source": [
    "__Q3c.__ Comment on what features, if any are not represented clearly in the boxplots, and what features, if any, are easier to see in the boxplots than in the histograms."
   ]
  },
  {
   "cell_type": "raw",
   "metadata": {},
   "source": []
  },
  {
   "cell_type": "markdown",
   "metadata": {},
   "source": [
    "## Question 4\n",
    "\n",
    "Make a boxplot showing the distribution of within-subject differences between the first and second systolic blood pressure measurents ([BPXSY1](https://wwwn.cdc.gov/Nchs/Nhanes/2015-2016/BPX_I.htm#BPXSY1) and [BPXSY2](https://wwwn.cdc.gov/Nchs/Nhanes/2015-2016/BPX_I.htm#BPXSY2))."
   ]
  },
  {
   "cell_type": "code",
   "execution_count": 32,
   "metadata": {},
   "outputs": [
    {
     "data": {
      "image/png": "[encoded data removed]",
      "text/plain": [
       "<Figure size 432x288 with 1 Axes>"
      ]
     },
     "metadata": {},
     "output_type": "display_data"
    }
   ],
   "source": [
    "# insert your code her\n",
    "bp=sns.boxplot(data=da.loc[:,['BPXSY1','BPXSY2']])\n",
    "_=bp.set_ylabel(\"blood pressure in mm/hg\")"
   ]
  },
  {
   "cell_type": "markdown",
   "metadata": {},
   "source": [
    "__Q4a.__ What proportion of the subjects have a lower SBP on the second reading compared to the first?"
   ]
  },
  {
   "cell_type": "code",
   "execution_count": null,
   "metadata": {},
   "outputs": [],
   "source": [
    "# insert your code here\n"
   ]
  },
  {
   "cell_type": "markdown",
   "metadata": {},
   "source": [
    "__Q4b.__ Make side-by-side boxplots of the two systolic blood pressure variables."
   ]
  },
  {
   "cell_type": "code",
   "execution_count": 4,
   "metadata": {},
   "outputs": [],
   "source": [
    "# insert your code here\n"
   ]
  },
  {
   "cell_type": "markdown",
   "metadata": {},
   "source": [
    "__Q4c.__ Comment on the variation within either the first or second systolic blood pressure measurements, and the variation in the within-subject differences between the first and second systolic blood pressure measurements."
   ]
  },
  {
   "cell_type": "raw",
   "metadata": {},
   "source": []
  },
  {
   "cell_type": "markdown",
   "metadata": {},
   "source": [
    "## Question 5\n",
    "\n",
    "Construct a frequency table of household sizes for people within each educational attainment category (the relevant variable is [DMDEDUC2](https://wwwn.cdc.gov/Nchs/Nhanes/2015-2016/DEMO_I.htm#DMDEDUC2)).  Convert the frequencies to proportions."
   ]
  },
  {
   "cell_type": "code",
   "execution_count": null,
   "metadata": {},
   "outputs": [],
   "source": [
    "# insert your code here"
   ]
  },
  {
   "cell_type": "markdown",
   "metadata": {},
   "source": [
    "__Q5a.__ Comment on any major differences among the distributions."
   ]
  },
  {
   "cell_type": "raw",
   "metadata": {},
   "source": []
  },
  {
   "cell_type": "markdown",
   "metadata": {},
   "source": [
    "__Q5b.__ Restrict the sample to people between 30 and 40 years of age.  Then calculate the median household size for women and men within each level of educational attainment."
   ]
  },
  {
   "cell_type": "code",
   "execution_count": 7,
   "metadata": {},
   "outputs": [],
   "source": [
    "# insert your code here"
   ]
  },
  {
   "cell_type": "markdown",
   "metadata": {},
   "source": [
    "## Question 6\n",
    "\n",
    "The participants can be clustered into \"maked variance units\" (MVU) based on every combination of the variables [SDMVSTRA](https://wwwn.cdc.gov/Nchs/Nhanes/2015-2016/DEMO_I.htm#SDMVSTRA) and [SDMVPSU](https://wwwn.cdc.gov/Nchs/Nhanes/2015-2016/DEMO_I.htm#SDMVPSU).  Calculate the mean age ([RIDAGEYR](https://wwwn.cdc.gov/Nchs/Nhanes/2015-2016/DEMO_I.htm#RIDAGEYR)), height ([BMXHT](https://wwwn.cdc.gov/Nchs/Nhanes/2015-2016/BMX_I.htm#BMXHT)), and BMI ([BMXBMI](https://wwwn.cdc.gov/Nchs/Nhanes/2015-2016/BMX_I.htm#BMXBMI)) for each gender ([RIAGENDR](https://wwwn.cdc.gov/Nchs/Nhanes/2015-2016/DEMO_I.htm#RIAGENDR)), within each MVU, and report the ratio between the largest and smallest mean (e.g. for height) across the MVUs."
   ]
  },
  {
   "cell_type": "code",
   "execution_count": 1,
   "metadata": {},
   "outputs": [],
   "source": [
    "# insert your code here"
   ]
  },
  {
   "cell_type": "markdown",
   "metadata": {},
   "source": [
    "__Q6a.__ Comment on the extent to which mean age, height, and BMI vary among the MVUs."
   ]
  },
  {
   "cell_type": "raw",
   "metadata": {},
   "source": []
  },
  {
   "cell_type": "markdown",
   "metadata": {},
   "source": [
    "__Q6b.__ Calculate the inter-quartile range (IQR) for age, height, and BMI for each gender and each MVU.  Report the ratio between the largest and smalles IQR across the MVUs."
   ]
  },
  {
   "cell_type": "code",
   "execution_count": null,
   "metadata": {},
   "outputs": [],
   "source": [
    "# insert your code here"
   ]
  },
  {
   "cell_type": "markdown",
   "metadata": {},
   "source": [
    "__Q6c.__ Comment on the extent to which the IQR for age, height, and BMI vary among the MVUs."
   ]
  },
  {
   "cell_type": "raw",
   "metadata": {},
   "source": []
  }
 ],
 "metadata": {
  "kernelspec": {
   "display_name": "Python 3",
   "language": "python",
   "name": "python3"
  },
  "language_info": {
   "codemirror_mode": {
    "name": "ipython",
    "version": 3
   },
   "file_extension": ".py",
   "mimetype": "text/x-python",
   "name": "python",
   "nbconvert_exporter": "python",
   "pygments_lexer": "ipython3",
   "version": "3.6.3"
  }
 },
 "nbformat": 4,
 "nbformat_minor": 2
}
